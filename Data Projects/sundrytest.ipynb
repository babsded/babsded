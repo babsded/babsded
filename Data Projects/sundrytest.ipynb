{
 "cells": [
  {
   "cell_type": "code",
   "execution_count": 6,
   "metadata": {},
   "outputs": [
    {
     "data": {
      "text/plain": [
       "{1: 'one', 2: 'two', 3: 'three'}"
      ]
     },
     "execution_count": 6,
     "metadata": {},
     "output_type": "execute_result"
    }
   ],
   "source": [
    "dict([(1,'one'),(2,'two'),(3,'three')])"
   ]
  },
  {
   "cell_type": "code",
   "execution_count": 11,
   "metadata": {},
   "outputs": [
    {
     "data": {
      "text/plain": [
       "{'name': 'Tunde', 'age': 'one', 'times': 'two'}"
      ]
     },
     "execution_count": 11,
     "metadata": {},
     "output_type": "execute_result"
    }
   ],
   "source": [
    "dict(name='Tunde',age='one',times='two')"
   ]
  },
  {
   "cell_type": "code",
   "execution_count": 13,
   "metadata": {},
   "outputs": [
    {
     "data": {
      "text/plain": [
       "{1: 'one', 2: 'two', 3: 'three', 4: 'four'}"
      ]
     },
     "execution_count": 13,
     "metadata": {},
     "output_type": "execute_result"
    }
   ],
   "source": [
    "list1 = [1,2,3,4]\n",
    "list2 = ['one','two','three','four']\n",
    "dict(zip(list1,list2))"
   ]
  },
  {
   "cell_type": "code",
   "execution_count": 18,
   "metadata": {},
   "outputs": [
    {
     "data": {
      "text/plain": [
       "{1: 'one', 2: 'two', 3: 'three', 4: 'four'}"
      ]
     },
     "execution_count": 18,
     "metadata": {},
     "output_type": "execute_result"
    }
   ],
   "source": [
    "keys = range(1,5)\n",
    "values = 'one two three four'.split()\n",
    "\n",
    "dict(enumerate(values, start=1))"
   ]
  },
  {
   "cell_type": "code",
   "execution_count": 19,
   "metadata": {},
   "outputs": [
    {
     "data": {
      "text/plain": [
       "[0, 1, 2, 3, 4]"
      ]
     },
     "execution_count": 19,
     "metadata": {},
     "output_type": "execute_result"
    }
   ],
   "source": [
    "list(range(5))"
   ]
  },
  {
   "cell_type": "code",
   "execution_count": 23,
   "metadata": {},
   "outputs": [
    {
     "data": {
      "text/plain": [
       "{0: [], 1: [], 2: [], 3: []}"
      ]
     },
     "execution_count": 23,
     "metadata": {},
     "output_type": "execute_result"
    }
   ],
   "source": [
    "test = dict.fromkeys(range(4),[])\n",
    "test\n"
   ]
  },
  {
   "cell_type": "code",
   "execution_count": 24,
   "metadata": {},
   "outputs": [
    {
     "data": {
      "text/plain": [
       "{0: ['zero'], 1: ['zero'], 2: ['zero'], 3: ['zero']}"
      ]
     },
     "execution_count": 24,
     "metadata": {},
     "output_type": "execute_result"
    }
   ],
   "source": [
    "test[0].append('zero')\n",
    "test"
   ]
  },
  {
   "cell_type": "code",
   "execution_count": 22,
   "metadata": {},
   "outputs": [
    {
     "data": {
      "text/plain": [
       "{0: 'zero', 1: 'one', 2: [], 3: []}"
      ]
     },
     "execution_count": 22,
     "metadata": {},
     "output_type": "execute_result"
    }
   ],
   "source": [
    "test[1] = 'one'\n",
    "test"
   ]
  },
  {
   "cell_type": "code",
   "execution_count": 26,
   "metadata": {},
   "outputs": [
    {
     "data": {
      "text/html": [
       "<style type=\"text/css\">\n",
       "#T_f0946_row0_col0, #T_f0946_row0_col1, #T_f0946_row1_col0, #T_f0946_row1_col1, #T_f0946_row3_col0 {\n",
       "  background-color: red;\n",
       "  color: white;\n",
       "}\n",
       "#T_f0946_row2_col0, #T_f0946_row2_col1, #T_f0946_row3_col1 {\n",
       "  background-color: green;\n",
       "  color: white;\n",
       "}\n",
       "</style>\n",
       "<table id=\"T_f0946\">\n",
       "  <thead>\n",
       "    <tr>\n",
       "      <th class=\"blank level0\" >&nbsp;</th>\n",
       "      <th id=\"T_f0946_level0_col0\" class=\"col_heading level0 col0\" >col1</th>\n",
       "      <th id=\"T_f0946_level0_col1\" class=\"col_heading level0 col1\" >col2</th>\n",
       "    </tr>\n",
       "  </thead>\n",
       "  <tbody>\n",
       "    <tr>\n",
       "      <th id=\"T_f0946_level0_row0\" class=\"row_heading level0 row0\" >0</th>\n",
       "      <td id=\"T_f0946_row0_col0\" class=\"data row0 col0\" >-3</td>\n",
       "      <td id=\"T_f0946_row0_col1\" class=\"data row0 col1\" >-9</td>\n",
       "    </tr>\n",
       "    <tr>\n",
       "      <th id=\"T_f0946_level0_row1\" class=\"row_heading level0 row1\" >1</th>\n",
       "      <td id=\"T_f0946_row1_col0\" class=\"data row1 col0\" >-7</td>\n",
       "      <td id=\"T_f0946_row1_col1\" class=\"data row1 col1\" >-4</td>\n",
       "    </tr>\n",
       "    <tr>\n",
       "      <th id=\"T_f0946_level0_row2\" class=\"row_heading level0 row2\" >2</th>\n",
       "      <td id=\"T_f0946_row2_col0\" class=\"data row2 col0\" >8</td>\n",
       "      <td id=\"T_f0946_row2_col1\" class=\"data row2 col1\" >6</td>\n",
       "    </tr>\n",
       "    <tr>\n",
       "      <th id=\"T_f0946_level0_row3\" class=\"row_heading level0 row3\" >3</th>\n",
       "      <td id=\"T_f0946_row3_col0\" class=\"data row3 col0\" >-1</td>\n",
       "      <td id=\"T_f0946_row3_col1\" class=\"data row3 col1\" >2</td>\n",
       "    </tr>\n",
       "  </tbody>\n",
       "</table>\n"
      ],
      "text/plain": [
       "<pandas.io.formats.style.Styler at 0x7f9347be3a90>"
      ]
     },
     "execution_count": 26,
     "metadata": {},
     "output_type": "execute_result"
    }
   ],
   "source": [
    "import pandas as pd\n",
    "df_test = pd.DataFrame({\n",
    "    'col1':[-3,-7,8,-1],\n",
    "    'col2':[-9,-4,6,2]\n",
    "})\n",
    "\n",
    "def color_background(row):\n",
    "    return [\n",
    "        'background-color: red; color: white'\n",
    "            if cell <= 0\n",
    "            else 'background-color: green; color: white'\n",
    "            for cell in row\n",
    "            ]\n",
    "\n",
    "df_test.style.apply(color_background)"
   ]
  },
  {
   "cell_type": "code",
   "execution_count": null,
   "metadata": {},
   "outputs": [],
   "source": []
  }
 ],
 "metadata": {
  "kernelspec": {
   "display_name": "Python 3.9.12 ('base')",
   "language": "python",
   "name": "python3"
  },
  "language_info": {
   "codemirror_mode": {
    "name": "ipython",
    "version": 3
   },
   "file_extension": ".py",
   "mimetype": "text/x-python",
   "name": "python",
   "nbconvert_exporter": "python",
   "pygments_lexer": "ipython3",
   "version": "3.9.12"
  },
  "orig_nbformat": 4,
  "vscode": {
   "interpreter": {
    "hash": "05cf0627bab4771c41fe164636fe1b5a9ea818fdb159da9da5cfcb8c946335c2"
   }
  }
 },
 "nbformat": 4,
 "nbformat_minor": 2
}
