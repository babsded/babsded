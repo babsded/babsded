{
 "cells": [
  {
   "cell_type": "code",
   "execution_count": 8,
   "metadata": {},
   "outputs": [
    {
     "name": "stdout",
     "output_type": "stream",
     "text": [
      "Value of mid variable before any loop is 4\n",
      "Value of mid variable after 1 run is 4, Value of start is 0, end is 3\n",
      "Value of mid variable before any loop is 1\n",
      "Value of mid variable after 2 run is 1, Value of start is 0, end is 0\n",
      "Value of mid variable before any loop is 0\n",
      "The position of our target is at index 0\n"
     ]
    }
   ],
   "source": [
    "def binary_iter(arr: list,start: int ,end: int,target: int) -> int: \n",
    "    n = 1\n",
    "    \n",
    "    while start <= end:\n",
    "        \n",
    "        global mid \n",
    "           \n",
    "        mid = (start + end)//2\n",
    "        \n",
    "        print(f'Value of mid variable before any loop is {mid}')\n",
    "        \n",
    "        if arr[mid] < target:\n",
    "            start = mid + 1\n",
    "            \n",
    "        elif arr[mid] > target:\n",
    "            end = mid - 1    \n",
    "        else:\n",
    "            return mid\n",
    "        \n",
    "        print(f'Value of mid variable after {n} run is {mid}, Value of start is {start}, end is {end}')\n",
    "        n += 1\n",
    "    return start\n",
    "\n",
    "arr = [3,7,9,8,98,99,105,107,207]\n",
    "target = 3\n",
    "target_index = binary_iter(arr, 0, len(arr) - 1, target)\n",
    "print(f'The position of our target is at index {target_index}')"
   ]
  },
  {
   "cell_type": "code",
   "execution_count": 9,
   "metadata": {},
   "outputs": [],
   "source": [
    "import numpy as np"
   ]
  },
  {
   "cell_type": "code",
   "execution_count": 10,
   "metadata": {},
   "outputs": [
    {
     "data": {
      "text/plain": [
       "Generator(PCG64) at 0x7FCE92606820"
      ]
     },
     "execution_count": 10,
     "metadata": {},
     "output_type": "execute_result"
    }
   ],
   "source": [
    "np.random.default_rng()"
   ]
  },
  {
   "cell_type": "code",
   "execution_count": 11,
   "metadata": {},
   "outputs": [
    {
     "data": {
      "text/plain": [
       "array([6, 9, 6, 1, 1, 2, 8, 7, 3, 5])"
      ]
     },
     "execution_count": 11,
     "metadata": {},
     "output_type": "execute_result"
    }
   ],
   "source": [
    "np.random.seed(1)\n",
    "np.random.randint(1,10,10)"
   ]
  },
  {
   "cell_type": "code",
   "execution_count": 12,
   "metadata": {},
   "outputs": [
    {
     "data": {
      "text/plain": [
       "array([[3, 3, 3],\n",
       "       [3, 3, 3]])"
      ]
     },
     "execution_count": 12,
     "metadata": {},
     "output_type": "execute_result"
    }
   ],
   "source": [
    "rg = np.random.default_rng(2)  # create instance of default random number generator\n",
    "a = np.ones((2, 3), dtype=int)\n",
    "b = rg.random((2, 3))\n",
    "a *= 3\n",
    "a"
   ]
  },
  {
   "cell_type": "code",
   "execution_count": 13,
   "metadata": {},
   "outputs": [
    {
     "data": {
      "text/plain": [
       "'int32'"
      ]
     },
     "execution_count": 13,
     "metadata": {},
     "output_type": "execute_result"
    }
   ],
   "source": [
    "f = np.ones(3, dtype=np.int32)\n",
    "f\n",
    "\n",
    "g = np.linspace(0, np.pi, 3)\n",
    "f.dtype.name"
   ]
  },
  {
   "cell_type": "code",
   "execution_count": 26,
   "metadata": {},
   "outputs": [
    {
     "name": "stdout",
     "output_type": "stream",
     "text": [
      "                                                                2022\n",
      "\n",
      "          January                            February                            March                              April\n",
      "Mon Tue Wed Thu Fri Sat Sun        Mon Tue Wed Thu Fri Sat Sun        Mon Tue Wed Thu Fri Sat Sun        Mon Tue Wed Thu Fri Sat Sun\n",
      "                      1   2              1   2   3   4   5   6              1   2   3   4   5   6                          1   2   3\n",
      "  3   4   5   6   7   8   9          7   8   9  10  11  12  13          7   8   9  10  11  12  13          4   5   6   7   8   9  10\n",
      " 10  11  12  13  14  15  16         14  15  16  17  18  19  20         14  15  16  17  18  19  20         11  12  13  14  15  16  17\n",
      " 17  18  19  20  21  22  23         21  22  23  24  25  26  27         21  22  23  24  25  26  27         18  19  20  21  22  23  24\n",
      " 24  25  26  27  28  29  30         28                                 28  29  30  31                     25  26  27  28  29  30\n",
      " 31\n",
      "\n",
      "            May                                June                               July                              August\n",
      "Mon Tue Wed Thu Fri Sat Sun        Mon Tue Wed Thu Fri Sat Sun        Mon Tue Wed Thu Fri Sat Sun        Mon Tue Wed Thu Fri Sat Sun\n",
      "                          1                  1   2   3   4   5                          1   2   3          1   2   3   4   5   6   7\n",
      "  2   3   4   5   6   7   8          6   7   8   9  10  11  12          4   5   6   7   8   9  10          8   9  10  11  12  13  14\n",
      "  9  10  11  12  13  14  15         13  14  15  16  17  18  19         11  12  13  14  15  16  17         15  16  17  18  19  20  21\n",
      " 16  17  18  19  20  21  22         20  21  22  23  24  25  26         18  19  20  21  22  23  24         22  23  24  25  26  27  28\n",
      " 23  24  25  26  27  28  29         27  28  29  30                     25  26  27  28  29  30  31         29  30  31\n",
      " 30  31\n",
      "\n",
      "         September                           October                            November                           December\n",
      "Mon Tue Wed Thu Fri Sat Sun        Mon Tue Wed Thu Fri Sat Sun        Mon Tue Wed Thu Fri Sat Sun        Mon Tue Wed Thu Fri Sat Sun\n",
      "              1   2   3   4                              1   2              1   2   3   4   5   6                      1   2   3   4\n",
      "  5   6   7   8   9  10  11          3   4   5   6   7   8   9          7   8   9  10  11  12  13          5   6   7   8   9  10  11\n",
      " 12  13  14  15  16  17  18         10  11  12  13  14  15  16         14  15  16  17  18  19  20         12  13  14  15  16  17  18\n",
      " 19  20  21  22  23  24  25         17  18  19  20  21  22  23         21  22  23  24  25  26  27         19  20  21  22  23  24  25\n",
      " 26  27  28  29  30                 24  25  26  27  28  29  30         28  29  30                         26  27  28  29  30  31\n",
      "                                    31\n",
      "\n"
     ]
    }
   ],
   "source": [
    "from calendar import *\n",
    "year = 2022\n",
    "print(calendar(year,3,1,8,4))"
   ]
  },
  {
   "cell_type": "code",
   "execution_count": 15,
   "metadata": {},
   "outputs": [
    {
     "data": {
      "text/plain": [
       "array([[0.18790107, 0.05514663, 0.27496937],\n",
       "       [0.65743301, 0.56226566, 0.15006226],\n",
       "       [0.43263079, 0.6692973 , 0.42278467]])"
      ]
     },
     "execution_count": 15,
     "metadata": {},
     "output_type": "execute_result"
    }
   ],
   "source": [
    "u = rg.random((3,3), dtype=np.float64)\n",
    "u"
   ]
  },
  {
   "cell_type": "code",
   "execution_count": 16,
   "metadata": {},
   "outputs": [
    {
     "data": {
      "text/plain": [
       "array([[[ 0,  1,  2,  3],\n",
       "        [ 4,  5,  6,  7],\n",
       "        [ 8,  9, 10, 11]],\n",
       "\n",
       "       [[12, 13, 14, 15],\n",
       "        [16, 17, 18, 19],\n",
       "        [20, 21, 22, 23]]])"
      ]
     },
     "execution_count": 16,
     "metadata": {},
     "output_type": "execute_result"
    }
   ],
   "source": [
    "l = np.arange(24).reshape((2, 3, 4))\n",
    "l"
   ]
  },
  {
   "cell_type": "code",
   "execution_count": 17,
   "metadata": {},
   "outputs": [
    {
     "data": {
      "text/plain": [
       "array([[ 0,  1,  2,  3],\n",
       "       [12, 13, 14, 15]])"
      ]
     },
     "execution_count": 17,
     "metadata": {},
     "output_type": "execute_result"
    }
   ],
   "source": [
    "lmax = l.min(axis=1)\n",
    "lmax"
   ]
  },
  {
   "cell_type": "code",
   "execution_count": 18,
   "metadata": {},
   "outputs": [],
   "source": [
    "del lmax"
   ]
  },
  {
   "cell_type": "code",
   "execution_count": 19,
   "metadata": {},
   "outputs": [
    {
     "data": {
      "text/plain": [
       "array([[[ 0,  1,  2,  3],\n",
       "        [ 4,  5,  6,  7],\n",
       "        [ 8,  9, 10, 11]],\n",
       "\n",
       "       [[12, 13, 14, 15],\n",
       "        [16, 17, 18, 19],\n",
       "        [20, 21, 22, 23]]])"
      ]
     },
     "execution_count": 19,
     "metadata": {},
     "output_type": "execute_result"
    }
   ],
   "source": [
    "l"
   ]
  },
  {
   "cell_type": "code",
   "execution_count": 20,
   "metadata": {},
   "outputs": [
    {
     "data": {
      "text/plain": [
       "[<Day.MONDAY: 1>,\n",
       " <Day.TUESDAY: 2>,\n",
       " <Day.WEDNESDAY: 3>,\n",
       " <Day.THURSDAY: 4>,\n",
       " <Day.FRIDAY: 5>,\n",
       " <Day.SATURDAY: 6>,\n",
       " <Day.SUNDAY: 7>]"
      ]
     },
     "execution_count": 20,
     "metadata": {},
     "output_type": "execute_result"
    }
   ],
   "source": [
    "from enum import Enum\n",
    "\n",
    "class Day(Enum):\n",
    "    MONDAY = 1\n",
    "    TUESDAY = 2\n",
    "    WEDNESDAY = 3\n",
    "    THURSDAY = 4\n",
    "    FRIDAY = 5\n",
    "    SATURDAY = 6\n",
    "    SUNDAY = 7\n",
    "\n",
    "\n",
    "list(Day)"
   ]
  },
  {
   "cell_type": "code",
   "execution_count": 21,
   "metadata": {},
   "outputs": [
    {
     "data": {
      "text/plain": [
       "enum.EnumMeta"
      ]
     },
     "execution_count": 21,
     "metadata": {},
     "output_type": "execute_result"
    }
   ],
   "source": [
    "type(Day)"
   ]
  },
  {
   "cell_type": "code",
   "execution_count": 22,
   "metadata": {},
   "outputs": [
    {
     "data": {
      "text/plain": [
       "<enum 'Day'>"
      ]
     },
     "execution_count": 22,
     "metadata": {},
     "output_type": "execute_result"
    }
   ],
   "source": [
    "type(Day.MONDAY)"
   ]
  },
  {
   "cell_type": "code",
   "execution_count": 23,
   "metadata": {},
   "outputs": [
    {
     "data": {
      "text/plain": [
       "6"
      ]
     },
     "execution_count": 23,
     "metadata": {},
     "output_type": "execute_result"
    }
   ],
   "source": [
    "len('medhan')"
   ]
  },
  {
   "cell_type": "code",
   "execution_count": 24,
   "metadata": {},
   "outputs": [],
   "source": [
    "def far_to_cel() -> float:\n",
    "    \n",
    "    while True:\n",
    "        \n",
    "        \n",
    "        \n",
    "        try:\n",
    "            Fahrenheit = float(input(\"Enter temperature in Fahrenheit: \"))\n",
    "            Celsius = (Fahrenheit - 32) * 5/9\n",
    "            return Celsius\n",
    "            \n",
    "         \n",
    "        except ValueError:\n",
    "            print('Pls ensure you enter numbers only')\n",
    "            \n",
    "            \n",
    "           \n",
    "            \n",
    "\n",
    "\n",
    "far_to_cel()"
   ]
  },
  {
   "cell_type": "code",
   "execution_count": 4,
   "metadata": {},
   "outputs": [],
   "source": [
    "class Church:\n",
    "    born_again = True   #class attribute common to all instances of this Class\n",
    "    \n",
    "    #instance attributes defined in the method below\n",
    "    def __init__(self,name,department,gender,age):\n",
    "        self.name = name\n",
    "        self.department = department\n",
    "        self.gender = gender\n",
    "        self.age = age\n",
    "    \n",
    "    def member_info(self):\n",
    "        return f\"{self.name} is a member of the {self.department} department and is a {self.gender}\"\n",
    "        \n",
    "    def member_list(self):\n",
    "        \n",
    "        if self.gender == 'female':\n",
    "            female_group = {}\n",
    "            female_group['name'] = self.name\n",
    "            female_group['department'] = self.department\n",
    "            female_group['age'] = self.age\n",
    "        \n",
    "            return f\"{self.name} is a female member with the following info: {female_group}\"\n",
    "        else:\n",
    "            male_group = {}\n",
    "            male_group['name'] = self.name\n",
    "            male_group['department'] = self.department\n",
    "            male_group['age'] = self.age\n",
    "            \n",
    "            return f\"{self.name} is a male member with the following info: {male_group}\"\n",
    "        \n",
    "    def __str__(self):          #this method reads the instance of the Church class as a string and returns string below with a print statement or str function\n",
    "        \n",
    "        return f\"This object is an instance of the Church class for member {self.name} obtained through the __str__ method\"\n",
    "    \n",
    "    def __repr__(self):         #this method reads the instance of the Church class and returns string below when object is simply inspected\n",
    "        \n",
    "        return f\"This object is an instance of the Church class for member {self.name} obtained through the __repr__ method\"\n",
    "        \n",
    "            \n",
    "            \n",
    "            \n",
    "            "
   ]
  },
  {
   "cell_type": "code",
   "execution_count": null,
   "metadata": {},
   "outputs": [],
   "source": []
  },
  {
   "cell_type": "code",
   "execution_count": 6,
   "metadata": {},
   "outputs": [
    {
     "data": {
      "text/plain": [
       "This object is an instance of the Church class for member Tunde obtained through the __repr__ method"
      ]
     },
     "execution_count": 6,
     "metadata": {},
     "output_type": "execute_result"
    }
   ],
   "source": [
    "Ajah_branch = Church('Tunde','Media','male',40)\n",
    "Ajah_branch"
   ]
  },
  {
   "cell_type": "code",
   "execution_count": null,
   "metadata": {},
   "outputs": [
    {
     "data": {
      "text/plain": [
       "'Media'"
      ]
     },
     "execution_count": 51,
     "metadata": {},
     "output_type": "execute_result"
    }
   ],
   "source": [
    "Ajah_branch.department"
   ]
  },
  {
   "cell_type": "code",
   "execution_count": null,
   "metadata": {},
   "outputs": [
    {
     "data": {
      "text/plain": [
       "This object is an instance of the Church class for member Tunde"
      ]
     },
     "execution_count": 81,
     "metadata": {},
     "output_type": "execute_result"
    }
   ],
   "source": [
    "Ajah_branch"
   ]
  },
  {
   "cell_type": "code",
   "execution_count": null,
   "metadata": {},
   "outputs": [
    {
     "data": {
      "text/plain": [
       "\"Tunde is a male member with the following info: {'name': 'Tunde', 'department': 'Media', 'age': 40}\""
      ]
     },
     "execution_count": 83,
     "metadata": {},
     "output_type": "execute_result"
    }
   ],
   "source": [
    "Ajah_branch.member_list()\n"
   ]
  },
  {
   "cell_type": "code",
   "execution_count": null,
   "metadata": {},
   "outputs": [],
   "source": [
    "Ajah_branch.gender = 'male'"
   ]
  },
  {
   "cell_type": "code",
   "execution_count": null,
   "metadata": {},
   "outputs": [
    {
     "data": {
      "text/plain": [
       "False"
      ]
     },
     "execution_count": 10,
     "metadata": {},
     "output_type": "execute_result"
    }
   ],
   "source": [
    "Ajah_branch.born_again"
   ]
  },
  {
   "cell_type": "code",
   "execution_count": null,
   "metadata": {},
   "outputs": [
    {
     "data": {
      "text/plain": [
       "'male'"
      ]
     },
     "execution_count": 11,
     "metadata": {},
     "output_type": "execute_result"
    }
   ],
   "source": [
    "Ajah_branch.gender"
   ]
  },
  {
   "cell_type": "code",
   "execution_count": 8,
   "metadata": {},
   "outputs": [],
   "source": [
    "Akure_branch = Church('Sola', 'Pastor','male',50)"
   ]
  },
  {
   "cell_type": "code",
   "execution_count": 9,
   "metadata": {},
   "outputs": [
    {
     "data": {
      "text/plain": [
       "'male'"
      ]
     },
     "execution_count": 9,
     "metadata": {},
     "output_type": "execute_result"
    }
   ],
   "source": [
    "Akure_branch.gender"
   ]
  },
  {
   "cell_type": "code",
   "execution_count": 10,
   "metadata": {},
   "outputs": [
    {
     "data": {
      "text/plain": [
       "\"Sola is a male member with the following info: {'name': 'Sola', 'department': 'Pastor', 'age': 50}\""
      ]
     },
     "execution_count": 10,
     "metadata": {},
     "output_type": "execute_result"
    }
   ],
   "source": [
    "Akure_branch.member_list()"
   ]
  },
  {
   "cell_type": "code",
   "execution_count": 13,
   "metadata": {},
   "outputs": [
    {
     "data": {
      "text/plain": [
       "False"
      ]
     },
     "execution_count": 13,
     "metadata": {},
     "output_type": "execute_result"
    }
   ],
   "source": [
    "Akure_branch.born_again = False\n",
    "Akure_branch.born_again"
   ]
  },
  {
   "cell_type": "code",
   "execution_count": 16,
   "metadata": {},
   "outputs": [],
   "source": [
    "class Pastorate(Church):        #Pastorate is child class of the parent class Church. Pastorate inherits all attributes and methods of Church\n",
    "    #update instance method from Church class that is unique to Pastorate class\n",
    "    def member_list(self):\n",
    "        \n",
    "        if self.gender == 'female':\n",
    "            female_group = {}\n",
    "            female_group['name'] = self.name\n",
    "            female_group['department'] = self.department\n",
    "            female_group['age'] = self.age\n",
    "        \n",
    "            return f\"{self.name} is a female Pastor with the following info: {female_group}\"\n",
    "        else:\n",
    "            male_group = {}\n",
    "            male_group['name'] = self.name\n",
    "            male_group['department'] = self.department\n",
    "            male_group['age'] = self.age\n",
    "            \n",
    "            return f\"{self.name} is a male Pastor with the following info: {male_group}\"\n",
    "    \n",
    "    #define a new method for the Pastorate class\n",
    "    \n",
    "    def ministry_years(self,yrs_ministry):\n",
    "        \n",
    "        return f\"Years of ministry is {experience}\"\n",
    "        "
   ]
  },
  {
   "cell_type": "code",
   "execution_count": null,
   "metadata": {},
   "outputs": [
    {
     "data": {
      "text/plain": [
       "\"Damilola is a male Pastor with the following info: {'name': 'Damilola', 'department': 'Pastor', 'age': 44}\""
      ]
     },
     "execution_count": 105,
     "metadata": {},
     "output_type": "execute_result"
    }
   ],
   "source": [
    "pastor_D = Pastorate(\"Damilola\",\"Pastor\",\"male\",44)\n",
    "pastor_D.member_list()"
   ]
  },
  {
   "cell_type": "code",
   "execution_count": null,
   "metadata": {},
   "outputs": [
    {
     "data": {
      "text/plain": [
       "'Austin is a member of the Pastor department and is a male'"
      ]
     },
     "execution_count": 6,
     "metadata": {},
     "output_type": "execute_result"
    }
   ],
   "source": [
    "pastor_A = Pastorate('Austin','Pastor','male',59)\n",
    "pastor_A.member_info()"
   ]
  },
  {
   "cell_type": "code",
   "execution_count": null,
   "metadata": {},
   "outputs": [
    {
     "data": {
      "text/plain": [
       "'Years of ministry is 6'"
      ]
     },
     "execution_count": 7,
     "metadata": {},
     "output_type": "execute_result"
    }
   ],
   "source": [
    "pastor_A.ministry_years(6)"
   ]
  },
  {
   "cell_type": "code",
   "execution_count": null,
   "metadata": {},
   "outputs": [
    {
     "data": {
      "text/plain": [
       "'Years of ministry is 10'"
      ]
     },
     "execution_count": 106,
     "metadata": {},
     "output_type": "execute_result"
    }
   ],
   "source": [
    "pastor_D.ministry_years(10)"
   ]
  },
  {
   "cell_type": "code",
   "execution_count": null,
   "metadata": {},
   "outputs": [
    {
     "data": {
      "text/plain": [
       "True"
      ]
     },
     "execution_count": 94,
     "metadata": {},
     "output_type": "execute_result"
    }
   ],
   "source": [
    "isinstance(pastor_D,Pastorate)"
   ]
  },
  {
   "cell_type": "code",
   "execution_count": null,
   "metadata": {},
   "outputs": [],
   "source": [
    "class ChlidrenChurch(Church):\n",
    "    pass"
   ]
  },
  {
   "cell_type": "code",
   "execution_count": null,
   "metadata": {},
   "outputs": [],
   "source": [
    "jola = ChlidrenChurch(\"Jolaoluwa\",\"David Army\",'female', 9)"
   ]
  },
  {
   "cell_type": "code",
   "execution_count": null,
   "metadata": {},
   "outputs": [
    {
     "data": {
      "text/plain": [
       "True"
      ]
     },
     "execution_count": 98,
     "metadata": {},
     "output_type": "execute_result"
    }
   ],
   "source": [
    "isinstance(jola,Church)"
   ]
  },
  {
   "cell_type": "code",
   "execution_count": null,
   "metadata": {},
   "outputs": [
    {
     "data": {
      "text/plain": [
       "\"Jolaoluwa is a female member with the following info: {'name': 'Jolaoluwa', 'department': 'David Army', 'age': 9}\""
      ]
     },
     "execution_count": 100,
     "metadata": {},
     "output_type": "execute_result"
    }
   ],
   "source": [
    "jola.member_list()"
   ]
  },
  {
   "cell_type": "code",
   "execution_count": 27,
   "metadata": {},
   "outputs": [],
   "source": [
    "class Rectangle:\n",
    "    def __init__(self, length, width):\n",
    "        self.length = length\n",
    "        self.width = width\n",
    "\n",
    "    def area(self):\n",
    "        return self.length * self.width\n",
    "\n",
    "    def perimeter(self):\n",
    "        return 2 * self.length + 2 * self.width\n",
    "\n",
    "# Here we declare that the Square class inherits from the Rectangle class\n",
    "class Square(Rectangle):\n",
    "    def __init__(self, length):\n",
    "        super().__init__(length, length)"
   ]
  },
  {
   "cell_type": "code",
   "execution_count": 31,
   "metadata": {},
   "outputs": [
    {
     "data": {
      "text/plain": [
       "28"
      ]
     },
     "execution_count": 31,
     "metadata": {},
     "output_type": "execute_result"
    }
   ],
   "source": [
    "sq_solution = Square(7)\n",
    "sq_solution.perimeter()"
   ]
  },
  {
   "cell_type": "code",
   "execution_count": null,
   "metadata": {},
   "outputs": [],
   "source": []
  },
  {
   "cell_type": "code",
   "execution_count": null,
   "metadata": {},
   "outputs": [
    {
     "data": {
      "text/plain": [
       "dict_items([('name', 'Tunde'), ('skin color', 'dark'), ('years on earth', 44)])"
      ]
     },
     "execution_count": 123,
     "metadata": {},
     "output_type": "execute_result"
    }
   ],
   "source": [
    "test_dict = {'name': 'Tunde', 'age': 44, 'skin color': 'dark'}\n",
    "test_dict2 = {'age': 44, 'name': 'Tunde', 'skin color': 'dark'}\n",
    "test_dict['years on earth'] = test_dict.pop('age')\n",
    "test_dict.items()"
   ]
  },
  {
   "cell_type": "code",
   "execution_count": null,
   "metadata": {},
   "outputs": [
    {
     "name": "stdout",
     "output_type": "stream",
     "text": [
      "Key is age and Value is 44\n",
      "Key is name and Value is Tunde\n",
      "Key is skin color and Value is dark\n"
     ]
    }
   ],
   "source": [
    "for i, j in test_dict2.items():\n",
    "    print(f\"Key is {i} and Value is {j}\")"
   ]
  },
  {
   "cell_type": "code",
   "execution_count": null,
   "metadata": {},
   "outputs": [
    {
     "data": {
      "text/plain": [
       "{'name': 'Tunde', 'skin color': 'dark', 'years on earth': 44, 'food': 'yam'}"
      ]
     },
     "execution_count": 129,
     "metadata": {},
     "output_type": "execute_result"
    }
   ],
   "source": [
    "new_dict = test_dict\n",
    "test_dict.update({'food':'yam'})\n",
    "new_dict"
   ]
  },
  {
   "cell_type": "code",
   "execution_count": null,
   "metadata": {},
   "outputs": [],
   "source": [
    "new_dict['car'] = 'toyota'"
   ]
  },
  {
   "cell_type": "code",
   "execution_count": null,
   "metadata": {},
   "outputs": [
    {
     "data": {
      "text/plain": [
       "{'name': 'Tunde',\n",
       " 'skin color': 'dark',\n",
       " 'years on earth': 44,\n",
       " 'food': 'yam',\n",
       " 'car': 'toyota'}"
      ]
     },
     "execution_count": 132,
     "metadata": {},
     "output_type": "execute_result"
    }
   ],
   "source": [
    "copy_dict = test_dict.copy()\n",
    "copy_dict"
   ]
  },
  {
   "cell_type": "code",
   "execution_count": null,
   "metadata": {},
   "outputs": [
    {
     "data": {
      "text/plain": [
       "{'p': 'y', 't': 'h', 'o': 'n'}"
      ]
     },
     "execution_count": 154,
     "metadata": {},
     "output_type": "execute_result"
    }
   ],
   "source": [
    "dict((\"py\", \"th\", \"on\"))"
   ]
  },
  {
   "cell_type": "code",
   "execution_count": 14,
   "metadata": {},
   "outputs": [
    {
     "data": {
      "text/plain": [
       "{'one': 1, 'two': 2, 'three': 3}"
      ]
     },
     "execution_count": 14,
     "metadata": {},
     "output_type": "execute_result"
    }
   ],
   "source": [
    "m = dict((['one',1],['two',2],['three',3]))\n",
    "m"
   ]
  },
  {
   "cell_type": "code",
   "execution_count": null,
   "metadata": {},
   "outputs": [
    {
     "data": {
      "text/plain": [
       "{'one': 3, 'two': 3, 'three': 3}"
      ]
     },
     "execution_count": 139,
     "metadata": {},
     "output_type": "execute_result"
    }
   ],
   "source": [
    "key_val = ('one', 'two', 'three')\n",
    "value_val = (1,2,3)\n",
    "for i in value_val:\n",
    "    thisdict = dict.fromkeys(key_val, i)\n",
    "thisdict"
   ]
  },
  {
   "cell_type": "code",
   "execution_count": null,
   "metadata": {},
   "outputs": [
    {
     "name": "stdout",
     "output_type": "stream",
     "text": [
      "1\n",
      "2\n",
      "3\n"
     ]
    }
   ],
   "source": [
    "for h in [1,2,3]:\n",
    "    print(h)"
   ]
  },
  {
   "cell_type": "code",
   "execution_count": null,
   "metadata": {},
   "outputs": [
    {
     "data": {
      "text/plain": [
       "{'name': 'Tunde',\n",
       " 'skin color': 'dark',\n",
       " 'years on earth': 44,\n",
       " 'car': 'toyota',\n",
       " 'fave food': 'yam'}"
      ]
     },
     "execution_count": 141,
     "metadata": {},
     "output_type": "execute_result"
    }
   ],
   "source": [
    "copy_dict['fave food'] = copy_dict.pop('food')\n",
    "copy_dict"
   ]
  },
  {
   "cell_type": "code",
   "execution_count": 19,
   "metadata": {},
   "outputs": [
    {
     "data": {
      "text/plain": [
       "{'a': 1, 'b': 2, 'c': 3}"
      ]
     },
     "execution_count": 19,
     "metadata": {},
     "output_type": "execute_result"
    }
   ],
   "source": [
    "d = {'x':1, 'y':2, 'z':3}\n",
    "d1 = {'x':'a', 'y':'b', 'z':'c'}\n",
    "\n",
    "dict((d1[key], value) for (key, value) in d.items())"
   ]
  },
  {
   "cell_type": "code",
   "execution_count": 21,
   "metadata": {},
   "outputs": [
    {
     "name": "stdout",
     "output_type": "stream",
     "text": [
      "x\n",
      "y\n",
      "z\n"
     ]
    }
   ],
   "source": [
    "for letters in d:\n",
    "    print(letters)"
   ]
  },
  {
   "cell_type": "code",
   "execution_count": null,
   "metadata": {},
   "outputs": [
    {
     "ename": "SyntaxError",
     "evalue": "cannot assign to function call (3961008226.py, line 1)",
     "output_type": "error",
     "traceback": [
      "\u001b[0;36m  Input \u001b[0;32mIn [152]\u001b[0;36m\u001b[0m\n\u001b[0;31m    round(1.5) = round(2.5)\u001b[0m\n\u001b[0m    ^\u001b[0m\n\u001b[0;31mSyntaxError\u001b[0m\u001b[0;31m:\u001b[0m cannot assign to function call\n"
     ]
    }
   ],
   "source": [
    "round(1.5) = round(2.5)"
   ]
  },
  {
   "cell_type": "code",
   "execution_count": 18,
   "metadata": {},
   "outputs": [
    {
     "data": {
      "text/plain": [
       "array([[1.44032795e-01, 8.75131952e-01, 7.88875081e-01, 7.61416686e-01,\n",
       "        6.00759006e-01],\n",
       "       [4.35800495e-01, 9.90989584e-01, 3.49129323e-01, 1.29641888e-01,\n",
       "        2.96541467e-02],\n",
       "       [1.36990601e-01, 1.61072959e-01, 8.12484297e-01, 5.07683278e-01,\n",
       "        5.12515233e-02],\n",
       "       [7.69584066e-01, 6.01277325e-01, 6.89137479e-01, 3.60336355e-01,\n",
       "        7.38381408e-01],\n",
       "       [3.70299618e-01, 4.54287089e-01, 8.90175500e-01, 8.89359035e-01,\n",
       "        8.79967555e-01],\n",
       "       [1.78931465e-01, 4.62084850e-02, 2.75440157e-01, 2.95043176e-01,\n",
       "        4.23352469e-01],\n",
       "       [9.27196866e-01, 3.42371472e-01, 8.26093341e-01, 6.96663709e-01,\n",
       "        5.88536302e-01],\n",
       "       [2.13784651e-01, 7.89652050e-01, 7.80646481e-01, 6.46267190e-01,\n",
       "        3.46060082e-01],\n",
       "       [6.85003353e-01, 7.99697115e-01, 9.08288998e-01, 1.99490775e-01,\n",
       "        1.66513578e-01],\n",
       "       [6.85185765e-01, 2.44764001e-01, 2.24356531e-02, 9.46305823e-01,\n",
       "        5.31694916e-01],\n",
       "       [9.71797745e-01, 9.43230420e-02, 9.70638103e-01, 3.57577131e-02,\n",
       "        1.14594765e-01],\n",
       "       [6.50882150e-01, 3.15269390e-01, 8.81880083e-01, 9.17345455e-01,\n",
       "        7.16815390e-01],\n",
       "       [3.95264353e-01, 7.32237497e-01, 5.95002515e-01, 2.78821076e-01,\n",
       "        7.87063165e-01],\n",
       "       [2.12019683e-01, 1.47984937e-01, 9.69506353e-01, 4.73805952e-02,\n",
       "        5.49091126e-01],\n",
       "       [3.94138266e-01, 1.42377763e-01, 4.19658847e-01, 3.09710506e-02,\n",
       "        1.90040705e-01],\n",
       "       [6.39926678e-01, 1.09386767e-01, 9.60678854e-01, 7.60521816e-01,\n",
       "        4.61178865e-01],\n",
       "       [6.70262909e-01, 7.70011287e-02, 2.02583510e-01, 3.96418818e-01,\n",
       "        8.67665840e-01],\n",
       "       [6.23982086e-01, 1.19505767e-01, 5.55807950e-01, 8.98909881e-01,\n",
       "        6.98452405e-02],\n",
       "       [5.03648391e-01, 5.14445395e-01, 5.24085432e-01, 8.69686053e-01,\n",
       "        3.53232131e-01],\n",
       "       [6.49721606e-01, 3.52812255e-02, 3.73257716e-01, 9.29933631e-01,\n",
       "        1.34428147e-01],\n",
       "       [8.04696177e-02, 4.06714040e-01, 3.34707756e-01, 7.12781316e-01,\n",
       "        9.29774910e-01],\n",
       "       [1.10876054e-01, 2.62617101e-01, 8.89267133e-01, 6.63116213e-01,\n",
       "        6.70515278e-01],\n",
       "       [4.72576763e-01, 6.80857937e-01, 2.24204305e-01, 6.77145664e-01,\n",
       "        6.80438185e-01],\n",
       "       [7.10517831e-01, 9.01185657e-01, 6.42281889e-01, 9.56228489e-01,\n",
       "        5.34360566e-01],\n",
       "       [5.98876545e-01, 9.33750625e-01, 2.90043584e-01, 3.23165318e-01,\n",
       "        5.32580469e-01],\n",
       "       [3.25937139e-01, 9.84587048e-01, 2.10785614e-01, 1.93245181e-01,\n",
       "        4.14179081e-01],\n",
       "       [5.08236648e-01, 2.05556830e-02, 1.86143821e-01, 8.64210829e-01,\n",
       "        3.81897756e-01],\n",
       "       [4.45083113e-01, 3.31982291e-01, 9.65885142e-01, 3.80151253e-01,\n",
       "        6.06407430e-01],\n",
       "       [4.84231154e-01, 4.22572957e-01, 4.82154663e-01, 2.22576874e-01,\n",
       "        5.24978915e-01],\n",
       "       [2.74363791e-01, 1.21841885e-01, 4.93385839e-01, 2.91689685e-01,\n",
       "        9.22904840e-01],\n",
       "       [6.79391342e-01, 6.85679372e-01, 9.46539857e-01, 8.07529509e-01,\n",
       "        4.25207101e-01],\n",
       "       [8.16191847e-02, 4.39819329e-01, 4.27363204e-01, 7.15629468e-01,\n",
       "        3.15025240e-01],\n",
       "       [4.54072977e-01, 8.41564476e-01, 1.76314379e-01, 4.90820019e-01,\n",
       "        1.22330886e-02],\n",
       "       [9.96975042e-01, 9.88921882e-01, 4.31332508e-01, 4.87361621e-01,\n",
       "        8.37935694e-01],\n",
       "       [9.03806170e-01, 1.54146122e-01, 5.59472115e-01, 1.94240802e-01,\n",
       "        2.96277573e-01],\n",
       "       [7.02437143e-01, 8.24253889e-01, 5.30781546e-01, 7.76201154e-01,\n",
       "        5.88460826e-01],\n",
       "       [2.98312669e-01, 1.56940427e-02, 4.99457417e-01, 7.32795515e-01,\n",
       "        2.28983209e-01],\n",
       "       [1.31498183e-01, 9.97726800e-01, 1.20365913e-01, 5.29306450e-01,\n",
       "        5.12635203e-01],\n",
       "       [8.84622668e-01, 9.87524183e-01, 6.94885982e-02, 3.68224568e-01,\n",
       "        1.50909905e-01],\n",
       "       [8.43352149e-01, 4.65194314e-01, 8.11050193e-01, 8.82733778e-01,\n",
       "        4.79910902e-01],\n",
       "       [5.74137361e-01, 3.17462656e-01, 9.17891326e-01, 4.46980820e-02,\n",
       "        9.40574956e-02],\n",
       "       [2.81099717e-01, 4.79248915e-01, 6.31752967e-01, 4.74665027e-01,\n",
       "        4.92239991e-01],\n",
       "       [7.10970250e-01, 8.65487792e-01, 6.08394571e-01, 9.45664478e-02,\n",
       "        1.98040062e-01],\n",
       "       [8.73942577e-01, 7.46631904e-01, 4.58540418e-02, 4.39438077e-01,\n",
       "        9.58324837e-01],\n",
       "       [6.58881629e-01, 6.97203231e-01, 7.51123528e-01, 9.38819226e-01,\n",
       "        3.54565395e-01],\n",
       "       [1.78774116e-01, 1.95345803e-01, 2.46184072e-01, 9.86482982e-01,\n",
       "        9.20040490e-01],\n",
       "       [8.47135769e-01, 8.76803620e-01, 2.24787811e-01, 2.19373302e-01,\n",
       "        5.36831764e-01],\n",
       "       [3.43339739e-01, 6.96000095e-01, 8.72779173e-01, 2.49041116e-01,\n",
       "        4.67118199e-01],\n",
       "       [7.19079169e-02, 8.75552111e-01, 7.46234300e-01, 4.09708250e-01,\n",
       "        3.45058397e-01],\n",
       "       [7.13210193e-01, 3.59296198e-01, 4.82080252e-01, 2.16478062e-01,\n",
       "        8.32012783e-01],\n",
       "       [7.72647895e-01, 4.44772141e-01, 5.17793502e-02, 5.58079726e-01,\n",
       "        2.15314601e-01],\n",
       "       [1.23071210e-01, 7.40922875e-01, 2.60831546e-02, 4.26493861e-01,\n",
       "        6.66769082e-01],\n",
       "       [9.60440167e-01, 9.85220659e-01, 7.95132837e-01, 1.83168105e-01,\n",
       "        8.79184317e-01],\n",
       "       [6.98213065e-01, 7.23902729e-01, 4.50402250e-01, 1.89582189e-01,\n",
       "        6.05552379e-01],\n",
       "       [1.44317725e-01, 9.55686686e-02, 9.62562094e-01, 9.43966590e-01,\n",
       "        7.08085332e-01],\n",
       "       [9.58561648e-01, 6.07270827e-01, 3.03052303e-01, 9.54535357e-01,\n",
       "        4.61336461e-01],\n",
       "       [2.95760792e-02, 9.63570452e-01, 1.27052360e-02, 8.88295331e-04,\n",
       "        5.25691725e-01],\n",
       "       [5.25183460e-02, 9.61270469e-01, 9.31186240e-01, 6.40111902e-02,\n",
       "        5.29954690e-01],\n",
       "       [2.21705184e-01, 9.03752170e-01, 5.54061006e-01, 7.61252660e-01,\n",
       "        5.29819161e-02],\n",
       "       [5.06920509e-01, 2.31589117e-01, 8.37588484e-01, 5.48244319e-01,\n",
       "        3.71792060e-01],\n",
       "       [1.73686744e-01, 2.87377576e-01, 4.30052600e-01, 1.45895637e-01,\n",
       "        8.12838690e-01],\n",
       "       [4.16864906e-01, 7.05151209e-01, 3.30258353e-01, 7.85361287e-01,\n",
       "        3.25828002e-01],\n",
       "       [1.39140469e-01, 4.01664095e-01, 5.08583226e-01, 6.86338634e-01,\n",
       "        5.07250534e-01],\n",
       "       [4.32172277e-01, 6.61419653e-01, 1.28880612e-01, 6.23647567e-01,\n",
       "        3.18681492e-02],\n",
       "       [6.03193451e-01, 1.09971365e-01, 8.52139269e-01, 6.62413843e-01,\n",
       "        8.49191564e-01],\n",
       "       [1.89556307e-01, 2.02839048e-01, 3.87438101e-01, 7.28862762e-01,\n",
       "        7.34961612e-01],\n",
       "       [5.74539490e-02, 2.66688111e-01, 4.03257889e-01, 6.06783286e-01,\n",
       "        4.24852416e-01],\n",
       "       [2.20114609e-01, 9.37018741e-01, 1.94705328e-01, 7.30443467e-01,\n",
       "        8.99311633e-01],\n",
       "       [7.38551842e-01, 3.37303383e-01, 5.50755089e-01, 3.05404271e-01,\n",
       "        6.59907637e-01],\n",
       "       [7.89906064e-01, 7.80522969e-01, 3.96253302e-01, 8.22472737e-01,\n",
       "        8.84591840e-01],\n",
       "       [8.68030617e-01, 5.85808006e-01, 3.75956033e-01, 9.79287017e-01,\n",
       "        5.45382053e-01],\n",
       "       [6.90752517e-01, 1.61077076e-01, 3.92750047e-01, 1.53387671e-02,\n",
       "        2.31801735e-01],\n",
       "       [4.42008514e-01, 3.43988827e-01, 6.07385083e-01, 3.47682679e-01,\n",
       "        9.65136007e-01],\n",
       "       [3.08700872e-01, 4.89022179e-01, 8.07087837e-02, 7.96164320e-01,\n",
       "        7.34177546e-01],\n",
       "       [9.01751485e-01, 9.48659218e-01, 7.10277252e-01, 4.59052933e-02,\n",
       "        8.28505191e-02],\n",
       "       [9.00234374e-01, 1.41824176e-01, 5.40387819e-02, 4.40439856e-02,\n",
       "        1.07712311e-01],\n",
       "       [6.04259848e-01, 7.87756960e-01, 2.83089289e-01, 5.51718938e-01,\n",
       "        3.58631256e-02],\n",
       "       [2.12451898e-01, 1.52225284e-01, 1.13301172e-01, 6.11388497e-01,\n",
       "        9.77967754e-01],\n",
       "       [4.13501799e-01, 3.30921428e-01, 9.26257602e-01, 7.11790390e-01,\n",
       "        4.18647045e-01],\n",
       "       [5.52403269e-03, 6.80506854e-01, 9.76104601e-01, 6.40745813e-01,\n",
       "        4.41826263e-01],\n",
       "       [1.01247379e-01, 2.06236431e-01, 7.84555119e-01, 2.18633209e-01,\n",
       "        7.97030580e-02],\n",
       "       [4.18116881e-01, 2.41999069e-01, 7.30510081e-01, 1.03786465e-01,\n",
       "        3.74398534e-01],\n",
       "       [3.11730125e-01, 3.08751998e-01, 7.69132408e-01, 6.63903939e-01,\n",
       "        5.81779360e-01],\n",
       "       [9.88117562e-01, 3.57091773e-01, 9.16161569e-01, 5.22439547e-01,\n",
       "        9.04966594e-01],\n",
       "       [8.78534323e-05, 6.29347419e-01, 4.83181158e-01, 9.16959805e-01,\n",
       "        1.15918035e-01],\n",
       "       [5.86913561e-01, 6.43405829e-01, 1.15815461e-01, 7.10330699e-01,\n",
       "        2.92592694e-01],\n",
       "       [1.98365877e-02, 5.36382130e-01, 1.17014843e-01, 6.60698808e-01,\n",
       "        8.35091462e-01],\n",
       "       [8.01015854e-01, 6.06240685e-01, 5.00668171e-01, 9.73022231e-01,\n",
       "        4.72185345e-01],\n",
       "       [7.07282811e-02, 5.98840604e-02, 9.87245354e-01, 6.93505550e-01,\n",
       "        4.04218267e-01],\n",
       "       [2.34193605e-01, 4.27211047e-01, 7.44915765e-01, 4.09422171e-01,\n",
       "        3.45866012e-01],\n",
       "       [4.85461418e-01, 4.30660893e-01, 6.10737909e-01, 1.09161392e-01,\n",
       "        4.01314238e-01],\n",
       "       [1.92721531e-01, 3.77801949e-01, 2.69169738e-01, 8.41167804e-01,\n",
       "        9.93140309e-01],\n",
       "       [3.98085030e-01, 1.45418040e-02, 7.01542073e-01, 3.85701435e-01,\n",
       "        3.29903085e-01],\n",
       "       [8.04606282e-01, 3.49309520e-01, 4.91221250e-01, 3.73803542e-01,\n",
       "        8.73885685e-01],\n",
       "       [9.49061153e-01, 2.73538972e-01, 2.33749036e-01, 9.59532418e-01,\n",
       "        6.46079691e-01],\n",
       "       [6.46477095e-01, 1.38451679e-01, 4.77456821e-01, 4.33984037e-01,\n",
       "        2.05976732e-02],\n",
       "       [8.09839434e-01, 4.77885698e-01, 9.06127905e-02, 2.78206766e-02,\n",
       "        6.04127391e-01],\n",
       "       [7.08819354e-02, 2.68919838e-01, 8.32463207e-01, 7.07956372e-01,\n",
       "        1.18688854e-01],\n",
       "       [4.96399357e-01, 4.65132369e-01, 8.24936511e-01, 5.33261644e-01,\n",
       "        7.89045900e-02],\n",
       "       [6.44863148e-01, 7.25573059e-03, 8.77154323e-01, 4.83038673e-01,\n",
       "        4.45587428e-01]])"
      ]
     },
     "execution_count": 18,
     "metadata": {},
     "output_type": "execute_result"
    }
   ],
   "source": [
    "import numpy as np\n",
    "np.random.rand(100,5)"
   ]
  },
  {
   "cell_type": "code",
   "execution_count": null,
   "metadata": {},
   "outputs": [],
   "source": []
  }
 ],
 "metadata": {
  "kernelspec": {
   "display_name": "Python 3.9.12 ('base')",
   "language": "python",
   "name": "python3"
  },
  "language_info": {
   "codemirror_mode": {
    "name": "ipython",
    "version": 3
   },
   "file_extension": ".py",
   "mimetype": "text/x-python",
   "name": "python",
   "nbconvert_exporter": "python",
   "pygments_lexer": "ipython3",
   "version": "3.9.12"
  },
  "orig_nbformat": 4,
  "vscode": {
   "interpreter": {
    "hash": "05cf0627bab4771c41fe164636fe1b5a9ea818fdb159da9da5cfcb8c946335c2"
   }
  }
 },
 "nbformat": 4,
 "nbformat_minor": 2
}
